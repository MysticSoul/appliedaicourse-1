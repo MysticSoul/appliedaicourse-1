{
 "cells": [
  {
   "cell_type": "code",
   "execution_count": 21,
   "metadata": {},
   "outputs": [
    {
     "name": "stdout",
     "output_type": "stream",
     "text": [
      "\n",
      "total number of samples (rows): 178\n",
      "total number of features (columns): 13\n",
      "Class label frequencies\n",
      "Class 1 samples: 33.15%\n",
      "Class 2 samples: 39.89%\n",
      "Class 3 samples: 26.97%\n"
     ]
    }
   ],
   "source": [
    "import numpy as np  \n",
    "import pandas as pd \n",
    "import csv\n",
    "import urllib\n",
    "\n",
    "csv_cont = urllib.request.urlopen(url)\n",
    "csv_cont = csv_cont.read() #.decode('utf-8')\n",
    "\n",
    "# Optional: saving the data to your local drive\n",
    "with open('./wine_data.csv', 'wb') as out:\n",
    "    out.write(csv_cont)\n",
    "\n",
    "# reading in all data into a NumPy array\n",
    "all_data = np.loadtxt(open(\"./wine_data.csv\",\"r\"),\n",
    "        delimiter=\",\",\n",
    "        skiprows=0,\n",
    "        dtype=np.float64\n",
    "        )\n",
    "\n",
    "# load class labels from column 1\n",
    "y_wine = all_data[:,0]\n",
    "\n",
    "# conversion of the class labels to integer-type array\n",
    "y_wine = y_wine.astype(np.int64, copy=False)\n",
    "\n",
    "# load the 14 features\n",
    "X_wine = all_data[:,1:]\n",
    "\n",
    "# printing some general information about the data\n",
    "print('\\ntotal number of samples (rows):', X_wine.shape[0])\n",
    "print('total number of features (columns):', X_wine.shape[1])\n",
    "\n",
    "\n",
    "# printing the rel.frequency of the class labels\n",
    "print('Class label frequencies')\n",
    "print('Class 1 samples: {:.2%}'.format(list(y_wine).count(1)/y_wine.shape[0]))\n",
    "print('Class 2 samples: {:.2%}'.format(list(y_wine).count(2)/y_wine.shape[0]))\n",
    "print('Class 3 samples: {:.2%}'.format(list(y_wine).count(3)/y_wine.shape[0]))\n"
   ]
  },
  {
   "cell_type": "code",
   "execution_count": 28,
   "metadata": {},
   "outputs": [],
   "source": [
    "from sklearn.cross_validation import train_test_split\n",
    "X_train, X_test, y_train, y_test = train_test_split(X_wine, y_wine,\n",
    "     test_size=0.30, random_state=123)\n"
   ]
  },
  {
   "cell_type": "code",
   "execution_count": 27,
   "metadata": {},
   "outputs": [],
   "source": [
    "# Standardization\n",
    "from sklearn import preprocessing\n",
    "std_scale = preprocessing.StandardScaler().fit(X_train)\n",
    "X_train = std_scale.transform(X_train)\n",
    "X_test = std_scale.transform(X_test)"
   ]
  },
  {
   "cell_type": "code",
   "execution_count": 29,
   "metadata": {},
   "outputs": [],
   "source": [
    "# Min-Max scaling (Normalization)\n",
    "from sklearn.preprocessing import StandardScaler\n",
    "sc = StandardScaler()  \n",
    "X_train = sc.fit_transform(X_train)  \n",
    "X_test = sc.transform(X_test)  "
   ]
  },
  {
   "cell_type": "code",
   "execution_count": 35,
   "metadata": {},
   "outputs": [
    {
     "data": {
      "image/png": "[encoded data removed]",
      "text/plain": [
       "<Figure size 720x576 with 1 Axes>"
      ]
     },
     "metadata": {
      "needs_background": "light"
     },
     "output_type": "display_data"
    },
    {
     "data": {
      "text/plain": [
       "array([0.35515711, 0.21222703, 0.10282865, 0.07642457, 0.0621589 ,\n",
       "       0.04574064, 0.038754  , 0.02680474, 0.0234847 , 0.02266076,\n",
       "       0.01488421, 0.01156267, 0.00731202])"
      ]
     },
     "execution_count": 35,
     "metadata": {},
     "output_type": "execute_result"
    }
   ],
   "source": [
    "from sklearn.decomposition import PCA\n",
    "from matplotlib import pyplot as plt\n",
    "%matplotlib inline\n",
    "sklearn_pca = PCA(n_components=2) # number of components to keep\n",
    "sklearn_transf = sklearn_pca.fit_transform(X_train)\n",
    "plt.figure(figsize=(10,8))\n",
    "\n",
    "for label,marker,color in zip(\n",
    "        range(1,4),('x', 'o', '^'),('blue', 'red', 'green')):\n",
    "\n",
    "    plt.scatter(x=sklearn_transf[:,0][y_train == label],\n",
    "                y=sklearn_transf[:,1][y_train == label],\n",
    "                marker=marker,\n",
    "                color=color,\n",
    "                alpha=0.7,\n",
    "                label='class {}'.format(label)\n",
    "                )\n",
    "\n",
    "plt.xlabel('vector 1')\n",
    "plt.ylabel('vector 2')\n",
    "\n",
    "plt.legend()\n",
    "plt.title('Most significant singular vectors after linear transformation via PCA')\n",
    "\n",
    "plt.show()\n",
    "\n",
    "sklearn_pca = PCA(n_components=None)\n",
    "sklearn_transf = sklearn_pca.fit_transform(X_train)\n",
    "sklearn_pca.explained_variance_ratio_"
   ]
  },
  {
   "cell_type": "code",
   "execution_count": 36,
   "metadata": {},
   "outputs": [
    {
     "ename": "ModuleNotFoundError",
     "evalue": "No module named 'sklearn.lda'",
     "output_type": "error",
     "traceback": [
      "\u001b[0;31m---------------------------------------------------------------------------\u001b[0m",
      "\u001b[0;31mModuleNotFoundError\u001b[0m                       Traceback (most recent call last)",
      "\u001b[0;32m<ipython-input-36-f15a70faa99e>\u001b[0m in \u001b[0;36m<module>\u001b[0;34m()\u001b[0m\n\u001b[0;32m----> 1\u001b[0;31m \u001b[0;32mfrom\u001b[0m \u001b[0msklearn\u001b[0m\u001b[0;34m.\u001b[0m\u001b[0mlda\u001b[0m \u001b[0;32mimport\u001b[0m \u001b[0mLDA\u001b[0m\u001b[0;34m\u001b[0m\u001b[0m\n\u001b[0m\u001b[1;32m      2\u001b[0m \u001b[0msklearn_lda\u001b[0m \u001b[0;34m=\u001b[0m \u001b[0mLDA\u001b[0m\u001b[0;34m(\u001b[0m\u001b[0mn_components\u001b[0m\u001b[0;34m=\u001b[0m\u001b[0;36m2\u001b[0m\u001b[0;34m)\u001b[0m\u001b[0;34m\u001b[0m\u001b[0m\n\u001b[1;32m      3\u001b[0m \u001b[0mtransf_lda\u001b[0m \u001b[0;34m=\u001b[0m \u001b[0msklearn_lda\u001b[0m\u001b[0;34m.\u001b[0m\u001b[0mfit_transform\u001b[0m\u001b[0;34m(\u001b[0m\u001b[0mX_train\u001b[0m\u001b[0;34m,\u001b[0m \u001b[0my_train\u001b[0m\u001b[0;34m)\u001b[0m\u001b[0;34m\u001b[0m\u001b[0m\n\u001b[1;32m      4\u001b[0m \u001b[0;34m\u001b[0m\u001b[0m\n\u001b[1;32m      5\u001b[0m \u001b[0mplt\u001b[0m\u001b[0;34m.\u001b[0m\u001b[0mfigure\u001b[0m\u001b[0;34m(\u001b[0m\u001b[0mfigsize\u001b[0m\u001b[0;34m=\u001b[0m\u001b[0;34m(\u001b[0m\u001b[0;36m10\u001b[0m\u001b[0;34m,\u001b[0m\u001b[0;36m8\u001b[0m\u001b[0;34m)\u001b[0m\u001b[0;34m)\u001b[0m\u001b[0;34m\u001b[0m\u001b[0m\n",
      "\u001b[0;31mModuleNotFoundError\u001b[0m: No module named 'sklearn.lda'"
     ]
    }
   ],
   "source": [
    "from sklearn.lda import LDA\n",
    "sklearn_lda = LDA(n_components=2)\n",
    "transf_lda = sklearn_lda.fit_transform(X_train, y_train)\n",
    "\n",
    "plt.figure(figsize=(10,8))\n",
    "\n",
    "for label,marker,color in zip(\n",
    "        range(1,4),('x', 'o', '^'),('blue', 'red', 'green')):\n",
    "\n",
    "\n",
    "    plt.scatter(x=transf_lda[:,0][y_train == label],\n",
    "                y=transf_lda[:,1][y_train == label],\n",
    "                marker=marker,\n",
    "                color=color,\n",
    "                alpha=0.7,\n",
    "                label='class {}'.format(label)\n",
    "                )\n",
    "\n",
    "plt.xlabel('vector 1')\n",
    "plt.ylabel('vector 2')\n",
    "\n",
    "plt.legend()\n",
    "plt.title('Most significant singular vectors after linear transformation via LDA')\n",
    "\n",
    "plt.show()"
   ]
  },
  {
   "cell_type": "code",
   "execution_count": null,
   "metadata": {},
   "outputs": [],
   "source": []
  }
 ],
 "metadata": {
  "kernelspec": {
   "display_name": "Python 3",
   "language": "python",
   "name": "python3"
  },
  "language_info": {
   "codemirror_mode": {
    "name": "ipython",
    "version": 3
   },
   "file_extension": ".py",
   "mimetype": "text/x-python",
   "name": "python",
   "nbconvert_exporter": "python",
   "pygments_lexer": "ipython3",
   "version": "3.7.0"
  }
 },
 "nbformat": 4,
 "nbformat_minor": 2
}
