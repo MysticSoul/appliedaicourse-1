{
 "cells": [
  {
   "cell_type": "code",
   "execution_count": 6,
   "metadata": {},
   "outputs": [
    {
     "name": "stdout",
     "output_type": "stream",
     "text": [
      "[]\n",
      "0\n",
      "['tophat']\n",
      "2\n",
      "['tophat', 'bowtie', 'jacket', 'monocle']\n",
      "11\n",
      "['tophat', 'bowtie', 'jacket', 'monocle', 'bowtie']\n",
      "15\n"
     ]
    }
   ],
   "source": [
    "\"\"\"You can use this class to represent how classy someone\n",
    "or something is.\n",
    "\"Classy\" is interchangable with \"fancy\".\n",
    "If you add fancy-looking items, you will increase\n",
    "your \"classiness\".\n",
    "Create a function in \"Classy\" that takes a string as\n",
    "input and adds it to the \"items\" list.\n",
    "Another method should calculate the \"classiness\"\n",
    "value based on the items.\n",
    "The following items have classiness points associated\n",
    "with them:\n",
    "\"tophat\" = 2\n",
    "\"bowtie\" = 4\n",
    "\"monocle\" = 5\n",
    "Everything else has 0 points.\n",
    "Use the test cases below to guide you!\"\"\"\n",
    "\n",
    "class Classy(object):\n",
    "    def __init__(self):\n",
    "        self.items = []\n",
    "    \n",
    "    def addItem(self, data):\n",
    "        self.items.append(data)\n",
    "    \n",
    "    def getClassiness(self):\n",
    "        classy_points=0\n",
    "        \n",
    "        for x in self.items:\n",
    "            if x == 'tophat':\n",
    "                classy_points+=2\n",
    "            elif x == 'bowtie':\n",
    "                classy_points+=4\n",
    "            elif x == 'monocle':\n",
    "                classy_points+=5\n",
    "            else:\n",
    "                classy_points+=0\n",
    "\n",
    "        return classy_points\n",
    "        \n",
    "\n",
    "# Test cases\n",
    "me = Classy()\n",
    "\n",
    "# Should be 0\n",
    "print me.getClassiness()\n",
    "\n",
    "me.addItem(\"tophat\")\n",
    "# Should be 2\n",
    "print me.getClassiness()\n",
    "\n",
    "me.addItem(\"bowtie\")\n",
    "me.addItem(\"jacket\")\n",
    "me.addItem(\"monocle\")\n",
    "# Should be 11\n",
    "print me.getClassiness()\n",
    "\n",
    "me.addItem(\"bowtie\")\n",
    "# Should be 15\n",
    "print me.getClassiness()\n"
   ]
  },
  {
   "cell_type": "code",
   "execution_count": 25,
   "metadata": {},
   "outputs": [
    {
     "data": {
      "text/plain": [
       "'I am super excited for this course! I am super excited for this course! I am super excited for this course! I am super excited for this course! I am super excited for this course!'"
      ]
     },
     "execution_count": 25,
     "metadata": {},
     "output_type": "execute_result"
    }
   ],
   "source": [
    "string=\"I am super excited for this course!\"\n",
    "l1=[]\n",
    "for i in range(5):\n",
    "    l1.append(string)\n",
    "' '.join(l1)"
   ]
  },
  {
   "cell_type": "code",
   "execution_count": null,
   "metadata": {
    "collapsed": true
   },
   "outputs": [],
   "source": [
    "\"\"\"input manatees: a list of \"manatees\", where one manatee is represented by a dictionary\n",
    "a single manatee has properties like \"name\", \"age\", et cetera\n",
    "n = the number of elements in \"manatees\"\n",
    "m = the number of properties per \"manatee\" (i.e. the number of keys in a manatee dictionary)\"\"\"\n",
    "\n",
    "def example1(manatees):\n",
    "    for manatee in manatees:\n",
    "        print manatee['name']\n",
    "\n",
    "def example2(manatees):\n",
    "    print manatees[0]['name']\n",
    "    print manatees[0]['age']\n",
    "\n",
    "def example3(manatees):\n",
    "    for manatee in manatees:\n",
    "        for manatee_property in manatee:\n",
    "            print manatee_property, \": \", manatee[manatee_property]\n",
    "\n",
    "def example4(manatees):\n",
    "    oldest_manatee = \"No manatees here!\"\n",
    "    for manatee1 in manatees:\n",
    "        for manatee2 in manatees:\n",
    "            if manatee1['age'] < manatee2['age']:\n",
    "                oldest_manatee = manatee2['name']\n",
    "            else:\n",
    "                oldest_manatee = manatee1['name']\n",
    "    print oldest_manatee"
   ]
  },
  {
   "cell_type": "code",
   "execution_count": 158,
   "metadata": {
    "collapsed": true
   },
   "outputs": [],
   "source": [
    "\"\"\"The LinkedList code from before is provided below.\n",
    "Add three functions to the LinkedList.\n",
    "\"get_position\" returns the element at a certain position.\n",
    "The \"insert\" function will add an element to a particular\n",
    "spot in the list.\n",
    "\"delete\" will delete the first element with that\n",
    "particular value.\n",
    "Then, use \"Test Run\" and \"Submit\" to run the test cases\n",
    "at the bottom.\"\"\"\n",
    "\n",
    "class Element(object):\n",
    "    def __init__(self, value):\n",
    "        self.value = value\n",
    "        self.next = None\n",
    "        \n",
    "class LinkedList(object):\n",
    "    def __init__(self, head=None):\n",
    "        self.head = head\n",
    "        \n",
    "    def append(self, new_element):\n",
    "        current = self.head\n",
    "        if self.head:\n",
    "            while current.next:\n",
    "                current = current.next\n",
    "            current.next = new_element\n",
    "        else:\n",
    "            self.head = new_element\n",
    "            \n",
    "    def get_position(self, position):\n",
    "        \"\"\"Get an element from a particular position.\n",
    "        Assume the first position is \"1\".\n",
    "        Return \"None\" if position is not in the list.\"\"\"\n",
    "        current = self.head\n",
    "        if self.head:\n",
    "            position_counter=1\n",
    "            while current.next:\n",
    "                current = current.next\n",
    "                position_counter+=1\n",
    "                if position_counter==position:\n",
    "                    return current\n",
    "                \n",
    "        else:\n",
    "            return None\n",
    "        \n",
    "        \n",
    "        \n",
    "    def insert(self, new_element, position):\n",
    "        \"\"\"Insert a new node at the given position.\n",
    "        Assume the first position is \"1\".\n",
    "        Inserting at position 3 means between\n",
    "        the 2nd and 3rd elements.\n",
    "        @param new_element: type Element\n",
    "        @param position: type int or str\n",
    "        \"\"\"\n",
    "        \n",
    "        current=self.head\n",
    "        position_counter=1\n",
    "        previous_element_index=position-1\n",
    "        previous_element=None\n",
    "        current_element=None\n",
    "        current_element_index=position\n",
    "        # store previous and next  a->b->d, insert c meand b.next is c and c.next is d\n",
    "        # c.next is d is easy how do i go back one step \n",
    "            \n",
    "        # get previous element\n",
    "        while current.next:        \n",
    "            if position_counter==previous_element_index:\n",
    "                previous_element=current\n",
    "                current_element=current.next\n",
    "                break\n",
    "            else:\n",
    "                current = current.next\n",
    "                position_counter+=1\n",
    "        \n",
    "        # assignments\n",
    "        previous_element.next=new_element\n",
    "        new_element.next=current_element\n",
    "\n",
    "        \n",
    "    def display(self):\n",
    "        current=self.head\n",
    "        position_counter=1\n",
    "        while current.next:\n",
    "            print \"Position %d, value %d\" %(position_counter, current.value)\n",
    "            position_counter+=1\n",
    "            current = current.next\n",
    "        # last position\n",
    "        print \"Position %d, value %d\" %(position_counter, current.value)\n",
    "    \n",
    "    def delete(self, value):\n",
    "        \"\"\"Delete the first node with a given value.\"\"\"\n",
    "        current=self.head\n",
    "        prev = current \n",
    "        while current.next:\n",
    "            if current.value==value:\n",
    "                print \"Found the value and I came from %d my current value %d, my next value %d\" %(prev.value, current.value, current.next.value)\n",
    "                prev.next=current.next \n",
    "                break\n",
    "            prev = current \n",
    "            current = current.next\n",
    "            "
   ]
  },
  {
   "cell_type": "code",
   "execution_count": 159,
   "metadata": {},
   "outputs": [
    {
     "name": "stdout",
     "output_type": "stream",
     "text": [
      "Position 1, value 1\n",
      "Position 2, value 2\n",
      "Position 3, value 3\n",
      "None\n",
      "Position 1, value 1\n",
      "Position 2, value 2\n",
      "Position 3, value 4\n",
      "Position 4, value 3\n",
      "None\n",
      "Position 1, value 1\n",
      "Position 2, value 0\n",
      "Position 3, value 2\n",
      "Position 4, value 4\n",
      "Position 5, value 3\n",
      "None\n",
      "Found the value and I came from 2 my current value 4, my next value 3\n",
      "After delete\n",
      "Position 1, value 1\n",
      "Position 2, value 0\n",
      "Position 3, value 2\n",
      "Position 4, value 3\n",
      "None\n"
     ]
    },
    {
     "data": {
      "text/plain": [
       "' \\n# Start setting up a LinkedList\\nll = LinkedList(e1)\\nll.append(e2)\\nll.append(e3)\\n#print ll.head.next.next.value\\n#print ll.get_position(3).value\\n# head a -> b -> c -> None\\n# 1->2->3\\n# head(value|next) ->(value|next)->\\nll.insert(e4,3)\\n#print ll.head.next.next.\\n#print ll.get_position(1).value\\n#print ll.get_position(1).value\\nprint ll.display()\\n'"
      ]
     },
     "execution_count": 159,
     "metadata": {},
     "output_type": "execute_result"
    }
   ],
   "source": [
    "\n",
    "# Test cases\n",
    "# Set up some Elements\n",
    "e1 = Element(1)\n",
    "e2 = Element(2)\n",
    "e3 = Element(3)\n",
    "e4 = Element(4)\n",
    "e5 = Element(0)\n",
    "# Start setting up a LinkedList\n",
    "ll = LinkedList(e1)\n",
    "ll.append(e2)\n",
    "ll.append(e3)\n",
    "\n",
    "print ll.display()\n",
    "ll.insert(e4,3)\n",
    "print ll.display()\n",
    "ll.insert(e5,2)\n",
    "print ll.display()\n",
    "ll.delete(4)\n",
    "print \"After delete\"\n",
    "print ll.display()\n",
    "\n",
    "\n",
    "\n",
    "#print ll.head.next.next.value\n",
    "''' \n",
    "# Start setting up a LinkedList\n",
    "ll = LinkedList(e1)\n",
    "ll.append(e2)\n",
    "ll.append(e3)\n",
    "#print ll.head.next.next.value\n",
    "#print ll.get_position(3).value\n",
    "# head a -> b -> c -> None\n",
    "# 1->2->3\n",
    "# head(value|next) ->(value|next)->\n",
    "ll.insert(e4,3)\n",
    "#print ll.head.next.next.\n",
    "#print ll.get_position(1).value\n",
    "#print ll.get_position(1).value\n",
    "print ll.display()\n",
    "'''"
   ]
  },
  {
   "cell_type": "code",
   "execution_count": 164,
   "metadata": {},
   "outputs": [
    {
     "name": "stdout",
     "output_type": "stream",
     "text": [
      "3\n"
     ]
    },
    {
     "ename": "AttributeError",
     "evalue": "'NoneType' object has no attribute 'value'",
     "output_type": "error",
     "traceback": [
      "\u001b[0;31m---------------------------------------------------------------------------\u001b[0m",
      "\u001b[0;31mAttributeError\u001b[0m                            Traceback (most recent call last)",
      "\u001b[0;32m<ipython-input-164-ba7c220b817c>\u001b[0m in \u001b[0;36m<module>\u001b[0;34m()\u001b[0m\n\u001b[1;32m    105\u001b[0m \u001b[0;32mprint\u001b[0m \u001b[0mll\u001b[0m\u001b[0;34m.\u001b[0m\u001b[0mhead\u001b[0m\u001b[0;34m.\u001b[0m\u001b[0mnext\u001b[0m\u001b[0;34m.\u001b[0m\u001b[0mnext\u001b[0m\u001b[0;34m.\u001b[0m\u001b[0mvalue\u001b[0m\u001b[0;34m\u001b[0m\u001b[0m\n\u001b[1;32m    106\u001b[0m \u001b[0;31m# Should also print 3\u001b[0m\u001b[0;34m\u001b[0m\u001b[0;34m\u001b[0m\u001b[0m\n\u001b[0;32m--> 107\u001b[0;31m \u001b[0;32mprint\u001b[0m \u001b[0mll\u001b[0m\u001b[0;34m.\u001b[0m\u001b[0mget_position\u001b[0m\u001b[0;34m(\u001b[0m\u001b[0;36m3\u001b[0m\u001b[0;34m)\u001b[0m\u001b[0;34m.\u001b[0m\u001b[0mvalue\u001b[0m\u001b[0;34m\u001b[0m\u001b[0m\n\u001b[0m\u001b[1;32m    108\u001b[0m \u001b[0;34m\u001b[0m\u001b[0m\n\u001b[1;32m    109\u001b[0m \u001b[0;31m# Test insert\u001b[0m\u001b[0;34m\u001b[0m\u001b[0;34m\u001b[0m\u001b[0m\n",
      "\u001b[0;31mAttributeError\u001b[0m: 'NoneType' object has no attribute 'value'"
     ]
    }
   ],
   "source": [
    "# coding=utf-8\n",
    "\n",
    "\n",
    "\n",
    "\"\"\"The LinkedList code from before is provided below.\n",
    "Add three functions to the LinkedList.\n",
    "\"get_position\" returns the element at a certain position.\n",
    "The \"insert\" function will add an element to a particular\n",
    "spot in the list.\n",
    "\"delete\" will delete the first element with that\n",
    "particular value.\n",
    "Then, use \"Test Run\" and \"Submit\" to run the test cases\n",
    "at the bottom.\"\"\"\n",
    "\n",
    "class Element(object):\n",
    "    def __init__(self, value):\n",
    "        self.value = value\n",
    "        self.next = None\n",
    "        \n",
    "class LinkedList(object):\n",
    "    def __init__(self, head=None):\n",
    "        self.head = head\n",
    "        \n",
    "    def append(self, new_element):\n",
    "        current = self.head\n",
    "        if self.head:\n",
    "            while current.next:\n",
    "                current = current.next\n",
    "            current.next = new_element\n",
    "        else:\n",
    "            self.head = new_element\n",
    "            \n",
    "    def get_position(self, position):\n",
    "        \"\"\"Get an element from a particular position.\n",
    "        Assume the first position is \"1\".\n",
    "        Return \"None\" if position is not in the list.\"\"\"\n",
    "        current=self.head\n",
    "        if self.head:\n",
    "            pos_counter=1\n",
    "            while current.next:\n",
    "                \n",
    "                if pos_counter==position:\n",
    "                    return current\n",
    "                current=current.next\n",
    "                pos_counter+=1\n",
    "\n",
    "        else:\n",
    "            return None \n",
    "    \n",
    "    def insert(self, new_element, position):\n",
    "        \"\"\"Insert a new node at the given position.\n",
    "        Assume the first position is \"1\".\n",
    "        Inserting at position 3 means between\n",
    "        the 2nd and 3rd elements.\"\"\"\n",
    "        current=self.head\n",
    "        position_counter=1\n",
    "        previous_element_index=position-1\n",
    "        previous_element=None\n",
    "        current_element=None\n",
    "        current_element_index=position\n",
    "        # store previous and next  a->b->d, insert c meand b.next is c and c.next is d\n",
    "        # c.next is d is easy how do i go back one step \n",
    "            \n",
    "        # get previous element\n",
    "        while current.next:        \n",
    "            if position_counter==previous_element_index:\n",
    "                previous_element=current\n",
    "                current_element=current.next\n",
    "                break\n",
    "            else:\n",
    "                current = current.next\n",
    "                position_counter+=1\n",
    "        \n",
    "        # assignments\n",
    "        previous_element.next=new_element\n",
    "        new_element.next=current_element\n",
    "    \n",
    "    \n",
    "    def delete(self, value):\n",
    "        \"\"\"Delete the first node with a given value.\"\"\"\n",
    "        current=self.head\n",
    "        prev = current \n",
    "        while current.next:\n",
    "            if current.value==value:\n",
    "                prev.next=current.next \n",
    "                break\n",
    "            prev = current \n",
    "            current = current.next\n",
    "\n",
    "\n",
    "# Test cases\n",
    "# Set up some Elements\n",
    "e1 = Element(1)\n",
    "e2 = Element(2)\n",
    "e3 = Element(3)\n",
    "e4 = Element(4)\n",
    "\n",
    "# Start setting up a LinkedList\n",
    "ll = LinkedList(e1)\n",
    "ll.append(e2)\n",
    "ll.append(e3)\n",
    "\n",
    "# Test get_position\n",
    "# Should print 3\n",
    "print ll.head.next.next.value\n",
    "# Should also print 3\n",
    "print ll.get_position(3).value\n",
    "\n",
    "# Test insert\n",
    "ll.insert(e4,3)\n",
    "# Should print 4 now\n",
    "print ll.get_position(3).value\n",
    "\n",
    "# Test delete\n",
    "ll.delete(1)\n",
    "# Should print 2 now\n",
    "print ll.get_position(1).value\n",
    "# Should print 4 now\n",
    "print ll.get_position(2).value\n",
    "# Should print 3 now\n",
    "print ll.get_position(3).value\n"
   ]
  },
  {
   "cell_type": "code",
   "execution_count": 177,
   "metadata": {},
   "outputs": [
    {
     "data": {
      "text/plain": [
       "Index([u'Product', u'Screen', u' Capacity', u'Cost'], dtype='object')"
      ]
     },
     "execution_count": 177,
     "metadata": {},
     "output_type": "execute_result"
    }
   ],
   "source": [
    "iphone_data='/Users/krishna/Desktop/appliedaicourse/datasets/iphone_data.csv'\n",
    "import pandas as pd \n",
    "import numpy as np\n",
    "import seaborn as sns\n",
    "import matplotlib.pyplot as plt \n",
    "plt.style.use('ggplot')\n",
    "\n",
    "raw_data.columns"
   ]
  },
  {
   "cell_type": "code",
   "execution_count": 178,
   "metadata": {},
   "outputs": [
    {
     "data": {
      "image/png": "[encoded data removed]",
      "text/plain": [
       "<matplotlib.figure.Figure at 0x10ec83d50>"
      ]
     },
     "metadata": {},
     "output_type": "display_data"
    }
   ],
   "source": [
    "raw_data=pd.read_csv(iphone_data)\n",
    "sns.distplot(raw_data[\"Screen\"])\n",
    "plt.show()\n"
   ]
  },
  {
   "cell_type": "code",
   "execution_count": 179,
   "metadata": {},
   "outputs": [
    {
     "data": {
      "image/png": "[encoded data removed]",
      "text/plain": [
       "<matplotlib.figure.Figure at 0x10ed8d9d0>"
      ]
     },
     "metadata": {},
     "output_type": "display_data"
    }
   ],
   "source": [
    "raw_data=pd.read_csv(iphone_data)\n",
    "sns.distplot(raw_data[\"Cost\"])\n",
    "plt.show()"
   ]
  },
  {
   "cell_type": "code",
   "execution_count": 182,
   "metadata": {},
   "outputs": [
    {
     "data": {
      "image/png": "[encoded data removed]",
      "text/plain": [
       "<matplotlib.figure.Figure at 0x113f06a10>"
      ]
     },
     "metadata": {},
     "output_type": "display_data"
    }
   ],
   "source": [
    "raw_data=pd.read_csv(iphone_data)\n",
    "sns.distplot(raw_data[\" Capacity\"])\n",
    "plt.show()"
   ]
  },
  {
   "cell_type": "code",
   "execution_count": 187,
   "metadata": {},
   "outputs": [
    {
     "data": {
      "image/png": "[encoded data removed]",
      "text/plain": [
       "<matplotlib.figure.Figure at 0x1a18c32990>"
      ]
     },
     "metadata": {},
     "output_type": "display_data"
    }
   ],
   "source": [
    "sns.pairplot(raw_data)\n",
    "plt.show()"
   ]
  },
  {
   "cell_type": "code",
   "execution_count": 263,
   "metadata": {
    "collapsed": true
   },
   "outputs": [],
   "source": [
    "class Element(object):\n",
    "    def __init__(self, value):\n",
    "        self.value = value\n",
    "        self.next = None\n",
    "\n",
    "class LinkedList(object):\n",
    "    def __init__(self, head=None):\n",
    "        self.head=head\n",
    "    def append(self,new_element):\n",
    "        if self.head is None:\n",
    "            # brand new linked list, create head\n",
    "            self.head=Element(new_element)\n",
    "        else:\n",
    "            # head already exists find the node which is not linked and append\n",
    "            # find the node which is not linked means we have to traverse the list \n",
    "            # this is typically an iterator pattern, general approach is create a current \n",
    "            # var and use this to progress forward \n",
    "            current=self.head\n",
    "            while current.next is not None:\n",
    "                current=current.next\n",
    "            current.next=Element(new_element)\n",
    "    def display(self):\n",
    "        current=self.head\n",
    "        while current.next is not None:\n",
    "            print str(current)+\"\\t\"+str(current.next)+\"\\t\"+str(current.value)\n",
    "            current = current.next \n",
    "        print str(current)+\"\\t\"+str(current.next)+\"\\t\"+str(current.value)\n",
    "        "
   ]
  },
  {
   "cell_type": "code",
   "execution_count": 232,
   "metadata": {
    "collapsed": true
   },
   "outputs": [],
   "source": [
    "head=Element(1)\n",
    "node2=Element(2)\n",
    "node3=Element(3)"
   ]
  },
  {
   "cell_type": "code",
   "execution_count": 233,
   "metadata": {},
   "outputs": [
    {
     "name": "stdout",
     "output_type": "stream",
     "text": [
      "Type\tAddress\tValue\tNext\n",
      "<class '__main__.Element'>\t<__main__.Element object at 0x1a18454790>\tNone\t1\n",
      "<class '__main__.Element'>\t<__main__.Element object at 0x1a18454bd0>\tNone\t2\n",
      "<class '__main__.Element'>\t<__main__.Element object at 0x1a18454710>\tNone\t3\n"
     ]
    }
   ],
   "source": [
    "# Memory assigments\n",
    "objs=[head, node2,node3]\n",
    "print \"Type\\tAddress\\tValue\\tNext\"\n",
    "for o in objs:\n",
    "    print str(type(o))+\"\\t\"+str(o)+\"\\t\"+str(o.next)+\"\\t\"+str(o.value)"
   ]
  },
  {
   "cell_type": "code",
   "execution_count": 217,
   "metadata": {
    "collapsed": true
   },
   "outputs": [],
   "source": [
    "head.next=node2\n",
    "node2.next=node3"
   ]
  },
  {
   "cell_type": "code",
   "execution_count": 219,
   "metadata": {},
   "outputs": [
    {
     "name": "stdout",
     "output_type": "stream",
     "text": [
      "Address\tValue\tNext\n",
      "<__main__.Element object at 0x1a1843b290>\t<__main__.Element object at 0x1a1843b050>\t1\n",
      "<__main__.Element object at 0x1a1843b050>\t<__main__.Element object at 0x1a1843b690>\t2\n",
      "<__main__.Element object at 0x1a1843b690>\tNone\t3\n"
     ]
    }
   ],
   "source": [
    "print \"Address\\tValue\\tNext\"\n",
    "for o in objs:\n",
    "    print str(o)+\"\\t\"+str(o.next)+\"\\t\"+str(o.value)"
   ]
  },
  {
   "cell_type": "code",
   "execution_count": 264,
   "metadata": {
    "collapsed": true
   },
   "outputs": [],
   "source": [
    "del(ll)\n",
    "ll=LinkedList()"
   ]
  },
  {
   "cell_type": "code",
   "execution_count": 265,
   "metadata": {},
   "outputs": [],
   "source": [
    "ll.append(1)\n",
    "ll.append(2)"
   ]
  },
  {
   "cell_type": "code",
   "execution_count": 266,
   "metadata": {},
   "outputs": [
    {
     "name": "stdout",
     "output_type": "stream",
     "text": [
      "<__main__.Element object at 0x1a1854d9d0>\t<__main__.Element object at 0x1a1854d710>\t1\n",
      "<__main__.Element object at 0x1a1854d710>\tNone\t2\n",
      "None\n"
     ]
    }
   ],
   "source": [
    "print ll.display()"
   ]
  },
  {
   "cell_type": "code",
   "execution_count": 267,
   "metadata": {},
   "outputs": [
    {
     "name": "stdout",
     "output_type": "stream",
     "text": [
      "<__main__.Element object at 0x1a1854d9d0>\t<__main__.Element object at 0x1a1854d710>\t1\n",
      "<__main__.Element object at 0x1a1854d710>\t<__main__.Element object at 0x1a1854d950>\t2\n",
      "<__main__.Element object at 0x1a1854d950>\tNone\t3\n",
      "None\n"
     ]
    }
   ],
   "source": [
    "ll.append(3)\n",
    "print ll.display()"
   ]
  },
  {
   "cell_type": "code",
   "execution_count": null,
   "metadata": {
    "collapsed": true
   },
   "outputs": [],
   "source": []
  }
 ],
 "metadata": {
  "kernelspec": {
   "display_name": "Python 3",
   "language": "python",
   "name": "python3"
  },
  "language_info": {
   "codemirror_mode": {
    "name": "ipython",
    "version": 3
   },
   "file_extension": ".py",
   "mimetype": "text/x-python",
   "name": "python",
   "nbconvert_exporter": "python",
   "pygments_lexer": "ipython3",
   "version": "3.6.7"
  }
 },
 "nbformat": 4,
 "nbformat_minor": 2
}
