{
 "cells": [
  {
   "cell_type": "code",
   "execution_count": 1,
   "metadata": {},
   "outputs": [],
   "source": [
    "import numpy as np\n",
    "import pandas as pd\n",
    "import matplotlib.pyplot as plt\n",
    "import warnings\n",
    "warnings.filterwarnings('ignore')"
   ]
  },
  {
   "cell_type": "code",
   "execution_count": 4,
   "metadata": {},
   "outputs": [],
   "source": [
    "df=pd.read_csv(\"datasets/attrib_data.csv\")"
   ]
  },
  {
   "cell_type": "code",
   "execution_count": 5,
   "metadata": {},
   "outputs": [
    {
     "data": {
      "text/plain": [
       "signup\n",
       "0    780\n",
       "1    420\n",
       "Name: signup, dtype: int64"
      ]
     },
     "execution_count": 5,
     "metadata": {},
     "output_type": "execute_result"
    }
   ],
   "source": [
    "df.groupby('signup')['signup'].count()"
   ]
  },
  {
   "cell_type": "code",
   "execution_count": 7,
   "metadata": {},
   "outputs": [],
   "source": [
    "from sklearn.preprocessing import StandardScaler\n",
    "scaler = StandardScaler()\n",
    "\n",
    "# create design matrix X and target vector y\n",
    "X = df[['phone','email','webinar']]\n",
    "y = df[['signup']]\n",
    "\n",
    "scaled_X = scaler.fit_transform(X)\n",
    "scaled_X = pd.DataFrame(scaled_X, columns=['phone', 'email', 'webinar'])"
   ]
  },
  {
   "cell_type": "code",
   "execution_count": 9,
   "metadata": {},
   "outputs": [
    {
     "name": "stdout",
     "output_type": "stream",
     "text": [
      "Shape of X Train: (804, 3)\n",
      "Shape of X Test: (396, 3)\n",
      "Shape of Y Train: (396, 3)\n",
      "Shape of Y Test: (396, 1)\n"
     ]
    },
    {
     "data": {
      "text/html": [
       "<div>\n",
       "<style scoped>\n",
       "    .dataframe tbody tr th:only-of-type {\n",
       "        vertical-align: middle;\n",
       "    }\n",
       "\n",
       "    .dataframe tbody tr th {\n",
       "        vertical-align: top;\n",
       "    }\n",
       "\n",
       "    .dataframe thead th {\n",
       "        text-align: right;\n",
       "    }\n",
       "</style>\n",
       "<table border=\"1\" class=\"dataframe\">\n",
       "  <thead>\n",
       "    <tr style=\"text-align: right;\">\n",
       "      <th></th>\n",
       "      <th>phone</th>\n",
       "      <th>email</th>\n",
       "      <th>webinar</th>\n",
       "    </tr>\n",
       "  </thead>\n",
       "  <tbody>\n",
       "    <tr>\n",
       "      <th>359</th>\n",
       "      <td>-1.001668</td>\n",
       "      <td>-0.968819</td>\n",
       "      <td>-0.981832</td>\n",
       "    </tr>\n",
       "    <tr>\n",
       "      <th>422</th>\n",
       "      <td>-1.001668</td>\n",
       "      <td>1.032184</td>\n",
       "      <td>1.018505</td>\n",
       "    </tr>\n",
       "    <tr>\n",
       "      <th>678</th>\n",
       "      <td>0.998335</td>\n",
       "      <td>1.032184</td>\n",
       "      <td>1.018505</td>\n",
       "    </tr>\n",
       "    <tr>\n",
       "      <th>526</th>\n",
       "      <td>0.998335</td>\n",
       "      <td>1.032184</td>\n",
       "      <td>1.018505</td>\n",
       "    </tr>\n",
       "    <tr>\n",
       "      <th>477</th>\n",
       "      <td>0.998335</td>\n",
       "      <td>-0.968819</td>\n",
       "      <td>1.018505</td>\n",
       "    </tr>\n",
       "  </tbody>\n",
       "</table>\n",
       "</div>"
      ],
      "text/plain": [
       "        phone     email   webinar\n",
       "359 -1.001668 -0.968819 -0.981832\n",
       "422 -1.001668  1.032184  1.018505\n",
       "678  0.998335  1.032184  1.018505\n",
       "526  0.998335  1.032184  1.018505\n",
       "477  0.998335 -0.968819  1.018505"
      ]
     },
     "execution_count": 9,
     "metadata": {},
     "output_type": "execute_result"
    }
   ],
   "source": [
    "from sklearn.model_selection import train_test_split\n",
    "X_train, X_test, y_train, y_test = train_test_split(scaled_X, y, test_size=0.33, random_state=42)\n",
    "print(\"Shape of X Train: \" +str(X_train.shape))\n",
    "print(\"Shape of X Test: \" +str(X_test.shape))\n",
    "print(\"Shape of Y Train: \" +str(X_test.shape))\n",
    "print(\"Shape of Y Test: \" + str(y_test.shape))\n",
    "X_train.head()"
   ]
  },
  {
   "cell_type": "code",
   "execution_count": 10,
   "metadata": {},
   "outputs": [
    {
     "name": "stdout",
     "output_type": "stream",
     "text": [
      "Optimization terminated successfully.\n",
      "         Current function value: 0.689473\n",
      "         Iterations 4\n",
      "                         Results: Logit\n",
      "================================================================\n",
      "Model:              Logit            Pseudo R-squared: -0.068   \n",
      "Dependent Variable: signup           AIC:              1114.6731\n",
      "Date:               2018-12-24 22:26 BIC:              1128.7419\n",
      "No. Observations:   804              Log-Likelihood:   -554.34  \n",
      "Df Model:           2                LL-Null:          -519.05  \n",
      "Df Residuals:       801              LLR p-value:      1.0000   \n",
      "Converged:          1.0000           Scale:            1.0000   \n",
      "No. Iterations:     4.0000                                      \n",
      "------------------------------------------------------------------\n",
      "           Coef.    Std.Err.      z      P>|z|     [0.025   0.975]\n",
      "------------------------------------------------------------------\n",
      "phone     -0.1255     0.0708   -1.7713   0.0765   -0.2643   0.0134\n",
      "email     -0.0483     0.0709   -0.6808   0.4960   -0.1873   0.0907\n",
      "webinar    0.1096     0.0709    1.5463   0.1220   -0.0293   0.2484\n",
      "================================================================\n",
      "\n"
     ]
    }
   ],
   "source": [
    "import statsmodels.api as sm\n",
    "logit_model=sm.Logit(y_train,X_train)\n",
    "result=logit_model.fit()\n",
    "print(result.summary2())"
   ]
  },
  {
   "cell_type": "code",
   "execution_count": 11,
   "metadata": {},
   "outputs": [
    {
     "name": "stdout",
     "output_type": "stream",
     "text": [
      "AUC for 20% holdout: 0.5157975246836323\n"
     ]
    }
   ],
   "source": [
    "from sklearn.metrics import roc_auc_score\n",
    "# Create, output AUC\n",
    "predicted = result.predict(X_test)\n",
    "auc = roc_auc_score(y_true=y_test, y_score=predicted)\n",
    "print('AUC for 20%% holdout: %s' %auc)\n"
   ]
  },
  {
   "cell_type": "code",
   "execution_count": 12,
   "metadata": {},
   "outputs": [
    {
     "name": "stderr",
     "output_type": "stream",
     "text": [
      "/anaconda3/lib/python3.6/site-packages/sklearn/utils/validation.py:761: DataConversionWarning: A column-vector y was passed when a 1d array was expected. Please change the shape of y to (n_samples, ), for example using ravel().\n",
      "  y = column_or_1d(y, warn=True)\n"
     ]
    }
   ],
   "source": [
    "## Running into issues with Scikit\n",
    "from sklearn.linear_model import LogisticRegression\n",
    "cls = LogisticRegression()\n",
    "cls.fit(X_train,y_train)\n",
    "y_pred = cls.predict(X_test)"
   ]
  },
  {
   "cell_type": "code",
   "execution_count": 14,
   "metadata": {},
   "outputs": [
    {
     "name": "stdout",
     "output_type": "stream",
     "text": [
      "[[-0.12581728 -0.07808225  0.09080167]]\n"
     ]
    }
   ],
   "source": [
    "print(cls.coef_)"
   ]
  },
  {
   "cell_type": "code",
   "execution_count": 21,
   "metadata": {},
   "outputs": [
    {
     "name": "stdout",
     "output_type": "stream",
     "text": [
      "AUC for 20% holdout: 0.5\n",
      "0.6439393939393939\n",
      "[[255   0]\n",
      " [141   0]]\n"
     ]
    },
    {
     "data": {
      "image/png": "[encoded data removed]",
      "text/plain": [
       "<Figure size 648x648 with 2 Axes>"
      ]
     },
     "metadata": {
      "needs_background": "light"
     },
     "output_type": "display_data"
    }
   ],
   "source": [
    "from sklearn.metrics import roc_auc_score\n",
    "# Create, output AUC\n",
    "predicted = cls.predict(X_test)\n",
    "auc = roc_auc_score(y_true=y_test, y_score=predicted)\n",
    "print('AUC for 20%% holdout: %s' %auc)\n",
    "\n",
    "score = cls.score(X_test, y_test)\n",
    "print(score)\n",
    "\n",
    "import matplotlib.pyplot as plt\n",
    "import seaborn as sns\n",
    "from sklearn import metrics\n",
    "cm = metrics.confusion_matrix(y_test, predicted)\n",
    "print(cm)\n",
    "plt.figure(figsize=(9,9))\n",
    "sns.heatmap(cm, annot=True, fmt=\".3f\", linewidths=.5, square = True, cmap = 'Blues_r');\n",
    "plt.ylabel('Actual label');\n",
    "plt.xlabel('Predicted label');\n",
    "all_sample_title = 'Accuracy Score: {0}'.format(score)\n",
    "plt.title(all_sample_title, size = 15);"
   ]
  },
  {
   "cell_type": "markdown",
   "metadata": {},
   "source": [
    "It is predicting everything as 0 class. try class_weight as balanced. And do some hyper parameter tuning\n",
    "\n",
    "## Tuning model "
   ]
  },
  {
   "cell_type": "markdown",
   "metadata": {},
   "source": [
    "### 1. Balanced class weights"
   ]
  },
  {
   "cell_type": "code",
   "execution_count": 24,
   "metadata": {},
   "outputs": [
    {
     "name": "stderr",
     "output_type": "stream",
     "text": [
      "/anaconda3/lib/python3.6/site-packages/sklearn/utils/validation.py:761: DataConversionWarning: A column-vector y was passed when a 1d array was expected. Please change the shape of y to (n_samples, ), for example using ravel().\n",
      "  y = column_or_1d(y, warn=True)\n"
     ]
    }
   ],
   "source": [
    "## Running into issues with Scikit\n",
    "cls = LogisticRegression(class_weight='balanced')\n",
    "cls.fit(X_train,y_train)\n",
    "y_pred = cls.predict(X_test)"
   ]
  },
  {
   "cell_type": "code",
   "execution_count": 25,
   "metadata": {},
   "outputs": [
    {
     "name": "stdout",
     "output_type": "stream",
     "text": [
      "AUC for 20% holdout: 0.5035878181059659\n",
      "0.49747474747474746\n",
      "[[123 132]\n",
      " [ 67  74]]\n"
     ]
    },
    {
     "data": {
      "image/png": "[encoded data removed]",
      "text/plain": [
       "<Figure size 648x648 with 2 Axes>"
      ]
     },
     "metadata": {
      "needs_background": "light"
     },
     "output_type": "display_data"
    }
   ],
   "source": [
    "# Create, output AUC\n",
    "predicted = cls.predict(X_test)\n",
    "auc = roc_auc_score(y_true=y_test, y_score=predicted)\n",
    "print('AUC for 20%% holdout: %s' %auc)\n",
    "\n",
    "score = cls.score(X_test, y_test)\n",
    "print(score)\n",
    "\n",
    "cm = metrics.confusion_matrix(y_test, predicted)\n",
    "print(cm)\n",
    "plt.figure(figsize=(9,9))\n",
    "sns.heatmap(cm, annot=True, fmt=\".3f\", linewidths=.5, square = True, cmap = 'Blues_r');\n",
    "plt.ylabel('Actual label');\n",
    "plt.xlabel('Predicted label');\n",
    "all_sample_title = 'Accuracy Score: {0}'.format(score)\n",
    "plt.title(all_sample_title, size = 15)"
   ]
  },
  {
   "cell_type": "code",
   "execution_count": 38,
   "metadata": {},
   "outputs": [
    {
     "name": "stdout",
     "output_type": "stream",
     "text": [
      "              precision    recall  f1-score   support\n",
      "\n",
      "     class 0       0.65      0.48      0.55       255\n",
      "     class 1       0.36      0.52      0.43       141\n",
      "\n",
      "   micro avg       0.50      0.50      0.50       396\n",
      "   macro avg       0.50      0.50      0.49       396\n",
      "weighted avg       0.54      0.50      0.51       396\n",
      "\n"
     ]
    }
   ],
   "source": [
    "from sklearn.metrics import classification_report\n",
    "target_names = ['class 0', 'class 1']\n",
    "print(classification_report(y_test, y_pred, target_names=target_names))"
   ]
  },
  {
   "cell_type": "markdown",
   "metadata": {},
   "source": [
    "### 2. Penalization - L1"
   ]
  },
  {
   "cell_type": "code",
   "execution_count": 39,
   "metadata": {},
   "outputs": [
    {
     "name": "stderr",
     "output_type": "stream",
     "text": [
      "/anaconda3/lib/python3.6/site-packages/sklearn/utils/validation.py:761: DataConversionWarning: A column-vector y was passed when a 1d array was expected. Please change the shape of y to (n_samples, ), for example using ravel().\n",
      "  y = column_or_1d(y, warn=True)\n"
     ]
    },
    {
     "name": "stdout",
     "output_type": "stream",
     "text": [
      "feature importance\n",
      "[[-0.12037753 -0.07282877  0.0863989 ]]\n",
      "AUC for 20% holdout: 0.5035878181059659\n",
      "0.49747474747474746\n",
      "[[123 132]\n",
      " [ 67  74]]\n",
      "              precision    recall  f1-score   support\n",
      "\n",
      "     class 0       0.65      0.48      0.55       255\n",
      "     class 1       0.36      0.52      0.43       141\n",
      "\n",
      "   micro avg       0.50      0.50      0.50       396\n",
      "   macro avg       0.50      0.50      0.49       396\n",
      "weighted avg       0.54      0.50      0.51       396\n",
      "\n"
     ]
    },
    {
     "data": {
      "image/png": "[encoded data removed]",
      "text/plain": [
       "<Figure size 648x648 with 2 Axes>"
      ]
     },
     "metadata": {
      "needs_background": "light"
     },
     "output_type": "display_data"
    }
   ],
   "source": [
    "cls = LogisticRegression(class_weight='balanced', penalty='l1')\n",
    "cls.fit(X_train,y_train)\n",
    "y_pred = cls.predict(X_test)\n",
    "print(\"feature importance\")\n",
    "print(cls.coef_)\n",
    "\n",
    "# Create, output AUC\n",
    "predicted = cls.predict(X_test)\n",
    "auc = roc_auc_score(y_true=y_test, y_score=predicted)\n",
    "print('AUC for 20%% holdout: %s' %auc)\n",
    "\n",
    "score = cls.score(X_test, y_test)\n",
    "print(score)\n",
    "\n",
    "cm = metrics.confusion_matrix(y_test, predicted)\n",
    "print(cm)\n",
    "plt.figure(figsize=(9,9))\n",
    "sns.heatmap(cm, annot=True, fmt=\".3f\", linewidths=.5, square = True, cmap = 'Blues_r');\n",
    "plt.ylabel('Actual label');\n",
    "plt.xlabel('Predicted label');\n",
    "all_sample_title = 'Accuracy Score: {0}'.format(score)\n",
    "plt.title(all_sample_title, size = 15)\n",
    "target_names = ['class 0', 'class 1']\n",
    "print(classification_report(y_test, y_pred, target_names=target_names))"
   ]
  },
  {
   "cell_type": "markdown",
   "metadata": {},
   "source": [
    "### Penalization L2"
   ]
  },
  {
   "cell_type": "code",
   "execution_count": 40,
   "metadata": {},
   "outputs": [
    {
     "name": "stderr",
     "output_type": "stream",
     "text": [
      "/anaconda3/lib/python3.6/site-packages/sklearn/utils/validation.py:761: DataConversionWarning: A column-vector y was passed when a 1d array was expected. Please change the shape of y to (n_samples, ), for example using ravel().\n",
      "  y = column_or_1d(y, warn=True)\n"
     ]
    },
    {
     "name": "stdout",
     "output_type": "stream",
     "text": [
      "feature importance\n",
      "[[-0.12487692 -0.07767223  0.09102942]]\n",
      "AUC for 20% holdout: 0.5035878181059659\n",
      "0.49747474747474746\n",
      "[[123 132]\n",
      " [ 67  74]]\n",
      "              precision    recall  f1-score   support\n",
      "\n",
      "     class 0       0.65      0.48      0.55       255\n",
      "     class 1       0.36      0.52      0.43       141\n",
      "\n",
      "   micro avg       0.50      0.50      0.50       396\n",
      "   macro avg       0.50      0.50      0.49       396\n",
      "weighted avg       0.54      0.50      0.51       396\n",
      "\n"
     ]
    },
    {
     "data": {
      "image/png": "[encoded data removed]",
      "text/plain": [
       "<Figure size 648x648 with 2 Axes>"
      ]
     },
     "metadata": {
      "needs_background": "light"
     },
     "output_type": "display_data"
    }
   ],
   "source": [
    "cls = LogisticRegression(class_weight='balanced', penalty='l2')\n",
    "cls.fit(X_train,y_train)\n",
    "y_pred = cls.predict(X_test)\n",
    "print(\"feature importance\")\n",
    "print(cls.coef_)\n",
    "\n",
    "# Create, output AUC\n",
    "predicted = cls.predict(X_test)\n",
    "auc = roc_auc_score(y_true=y_test, y_score=predicted)\n",
    "print('AUC for 20%% holdout: %s' %auc)\n",
    "\n",
    "score = cls.score(X_test, y_test)\n",
    "print(score)\n",
    "\n",
    "cm = metrics.confusion_matrix(y_test, predicted)\n",
    "print(cm)\n",
    "plt.figure(figsize=(9,9))\n",
    "sns.heatmap(cm, annot=True, fmt=\".3f\", linewidths=.5, square = True, cmap = 'Blues_r');\n",
    "plt.ylabel('Actual label');\n",
    "plt.xlabel('Predicted label');\n",
    "all_sample_title = 'Accuracy Score: {0}'.format(score)\n",
    "plt.title(all_sample_title, size = 15)\n",
    "target_names = ['class 0', 'class 1']\n",
    "print(classification_report(y_test, y_pred, target_names=target_names))"
   ]
  },
  {
   "cell_type": "markdown",
   "metadata": {},
   "source": [
    "### GridSearch"
   ]
  },
  {
   "cell_type": "code",
   "execution_count": 41,
   "metadata": {
    "scrolled": true
   },
   "outputs": [
    {
     "name": "stdout",
     "output_type": "stream",
     "text": [
      "feature importance\n",
      "[[-0.12487692 -0.07767223  0.09102942]]\n",
      "AUC for 20% holdout: 0.5035878181059659\n",
      "0.49747474747474746\n",
      "[[123 132]\n",
      " [ 67  74]]\n",
      "              precision    recall  f1-score   support\n",
      "\n",
      "     class 0       0.65      0.48      0.55       255\n",
      "     class 1       0.36      0.52      0.43       141\n",
      "\n",
      "   micro avg       0.50      0.50      0.50       396\n",
      "   macro avg       0.50      0.50      0.49       396\n",
      "weighted avg       0.54      0.50      0.51       396\n",
      "\n"
     ]
    },
    {
     "data": {
      "image/png": "[encoded data removed]",
      "text/plain": [
       "<Figure size 648x648 with 2 Axes>"
      ]
     },
     "metadata": {
      "needs_background": "light"
     },
     "output_type": "display_data"
    }
   ],
   "source": [
    "from sklearn.model_selection import GridSearchCV\n",
    "param_grid = {'C': [0.001, 0.01, 0.1, 1, 10, 100, 1000] }\n",
    "clf = GridSearchCV(LogisticRegression(penalty='l2'), param_grid)\n",
    "y_pred = cls.predict(X_test)\n",
    "print(\"feature importance\")\n",
    "print(cls.coef_)\n",
    "\n",
    "# Create, output AUC\n",
    "predicted = cls.predict(X_test)\n",
    "auc = roc_auc_score(y_true=y_test, y_score=predicted)\n",
    "print('AUC for 20%% holdout: %s' %auc)\n",
    "\n",
    "score = cls.score(X_test, y_test)\n",
    "print(score)\n",
    "\n",
    "cm = metrics.confusion_matrix(y_test, predicted)\n",
    "print(cm)\n",
    "plt.figure(figsize=(9,9))\n",
    "sns.heatmap(cm, annot=True, fmt=\".3f\", linewidths=.5, square = True, cmap = 'Blues_r');\n",
    "plt.ylabel('Actual label');\n",
    "plt.xlabel('Predicted label');\n",
    "all_sample_title = 'Accuracy Score: {0}'.format(score)\n",
    "plt.title(all_sample_title, size = 15)\n",
    "target_names = ['class 0', 'class 1']\n",
    "print(classification_report(y_test, y_pred, target_names=target_names))"
   ]
  },
  {
   "cell_type": "code",
   "execution_count": null,
   "metadata": {},
   "outputs": [],
   "source": []
  }
 ],
 "metadata": {
  "kernelspec": {
   "display_name": "Python 3",
   "language": "python",
   "name": "python3"
  },
  "language_info": {
   "codemirror_mode": {
    "name": "ipython",
    "version": 3
   },
   "file_extension": ".py",
   "mimetype": "text/x-python",
   "name": "python",
   "nbconvert_exporter": "python",
   "pygments_lexer": "ipython3",
   "version": "3.6.7"
  }
 },
 "nbformat": 4,
 "nbformat_minor": 2
}
