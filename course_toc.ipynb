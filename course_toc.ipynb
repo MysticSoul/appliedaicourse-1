{
 "cells": [
  {
   "cell_type": "code",
   "execution_count": 1,
   "metadata": {},
   "outputs": [
    {
     "name": "stdout",
     "output_type": "stream",
     "text": [
      "H-1B_Disclosure_Data_FY2018_Q4_EOY.xlsx iphone_data.csv\r\n",
      "haberman.csv                            toc.txt\r\n",
      "habermans-survival-data-set.zip\r\n"
     ]
    }
   ],
   "source": [
    "!ls datasets"
   ]
  },
  {
   "cell_type": "code",
   "execution_count": 3,
   "metadata": {},
   "outputs": [
    {
     "name": "stdout",
     "output_type": "stream",
     "text": [
      "39818\n"
     ]
    }
   ],
   "source": [
    "with open(\"datasets/toc.txt\") as the_file:\n",
    "    raw_data=the_file.read()\n",
    "print(len(raw_data))"
   ]
  },
  {
   "cell_type": "code",
   "execution_count": 4,
   "metadata": {},
   "outputs": [
    {
     "data": {
      "text/plain": [
       "'H'"
      ]
     },
     "execution_count": 4,
     "metadata": {},
     "output_type": "execute_result"
    }
   ],
   "source": [
    "raw_data[0]"
   ]
  },
  {
   "cell_type": "code",
   "execution_count": 8,
   "metadata": {},
   "outputs": [],
   "source": [
    "lines=[]\n",
    "for line in raw_data.split(\"\\n\"):\n",
    "    lines.append(line)"
   ]
  },
  {
   "cell_type": "code",
   "execution_count": 13,
   "metadata": {},
   "outputs": [],
   "source": [
    "ch1=lines[1:20]"
   ]
  },
  {
   "cell_type": "code",
   "execution_count": 29,
   "metadata": {},
   "outputs": [],
   "source": [
    "chapters=[]\n",
    "for line in lines:\n",
    "    if len(line)>1:\n",
    "        chapters.append(line.split(\"\\t\"))\n",
    "    "
   ]
  },
  {
   "cell_type": "code",
   "execution_count": 62,
   "metadata": {},
   "outputs": [
    {
     "data": {
      "text/plain": [
       "'\\ntoc={}\\nfor i in ch1:\\n    if len(i)==1:\\n        print(i[0])\\n        toc[i[0]]=[]\\nprint(toc)\\nfor i in ch1: \\n    if len(i)==2:\\n        print(i[1].split(\" \")[0],\":\",  i[1].split(\" \")[-2], i[1].split(\" \")[-1])\\n        #toc[current_chp].append(i[1].split(\" \")[0],\":\",  i[1].split(\" \")[-2], i[1].split(\" \")[-1])\\n#print(i.split(\",\")[1].split(\" \"))\\n'"
      ]
     },
     "execution_count": 62,
     "metadata": {},
     "output_type": "execute_result"
    }
   ],
   "source": [
    "toc={}\n",
    "head=1\n",
    "for i in chapters:\n",
    "    if len(i)==1:\n",
    "        #print(str(head) + \":\" + i[0])\n",
    "        toc[\"chapter\"]=str(head) + \":\" + i[0]\n",
    "        head+=1\n",
    "\n",
    "'''\n",
    "toc={}\n",
    "for i in ch1:\n",
    "    if len(i)==1:\n",
    "        print(i[0])\n",
    "        toc[i[0]]=[]\n",
    "print(toc)\n",
    "for i in ch1: \n",
    "    if len(i)==2:\n",
    "        print(i[1].split(\" \")[0],\":\",  i[1].split(\" \")[-2], i[1].split(\" \")[-1])\n",
    "        #toc[current_chp].append(i[1].split(\" \")[0],\":\",  i[1].split(\" \")[-2], i[1].split(\" \")[-1])\n",
    "#print(i.split(\",\")[1].split(\" \"))\n",
    "'''"
   ]
  },
  {
   "cell_type": "code",
   "execution_count": 98,
   "metadata": {},
   "outputs": [
    {
     "name": "stdout",
     "output_type": "stream",
     "text": [
      "11 8.716666666666667\n",
      "12 0.5\n",
      "13 1.95\n",
      "14 1.9666666666666666\n",
      "15 1.9166666666666667\n",
      "16 0.5\n",
      "17 4.1\n",
      "18 7.65\n",
      "19 0.5\n",
      "20 5.283333333333333\n",
      "21 2.283333333333333\n",
      "22 0.5\n",
      "23 4.8\n",
      "24 5.316666666666666\n",
      "25 0.8\n",
      "26 3.433333333333333\n",
      "27 0.5\n",
      "28 3.7\n",
      "29 0.5\n",
      "30 2.9833333333333334\n",
      "31 0.5\n",
      "32 3.783333333333333\n",
      "33 3.4166666666666665\n",
      "34 2.45\n",
      "35 2.466666666666667\n",
      "36 1.0166666666666666\n",
      "37 1.5666666666666667\n",
      "38 4.3\n",
      "39 0.5\n",
      "40 2.4\n",
      "41 2.183333333333333\n",
      "42 5.1\n",
      "43 2.066666666666667\n",
      "44 3.316666666666667\n",
      "45 4.066666666666666\n",
      "46 3.183333333333333\n",
      "47 4.7\n",
      "48 5.816666666666666\n",
      "49 3.0166666666666666\n",
      "50 4.55\n",
      "51 3.15\n",
      "52 0.5\n",
      "53 1.8666666666666667\n",
      "54 2.6666666666666665\n",
      "55 1.2666666666666666\n"
     ]
    },
    {
     "ename": "ValueError",
     "evalue": "invalid literal for int() with base 10: ''",
     "output_type": "error",
     "traceback": [
      "\u001b[0;31m---------------------------------------------------------------------------\u001b[0m",
      "\u001b[0;31mValueError\u001b[0m                                Traceback (most recent call last)",
      "\u001b[0;32m<ipython-input-98-d7903de615fe>\u001b[0m in \u001b[0;36m<module>\u001b[0;34m()\u001b[0m\n\u001b[1;32m      6\u001b[0m             \u001b[0;31m#print(i[1] )\u001b[0m\u001b[0;34m\u001b[0m\u001b[0;34m\u001b[0m\u001b[0m\n\u001b[1;32m      7\u001b[0m \u001b[0;34m\u001b[0m\u001b[0m\n\u001b[0;32m----> 8\u001b[0;31m             \u001b[0ma\u001b[0m\u001b[0;34m=\u001b[0m\u001b[0mint\u001b[0m\u001b[0;34m(\u001b[0m\u001b[0mi\u001b[0m\u001b[0;34m[\u001b[0m\u001b[0;36m1\u001b[0m\u001b[0;34m]\u001b[0m\u001b[0;34m.\u001b[0m\u001b[0msplit\u001b[0m\u001b[0;34m(\u001b[0m\u001b[0;34m\" \"\u001b[0m\u001b[0;34m)\u001b[0m\u001b[0;34m[\u001b[0m\u001b[0;34m-\u001b[0m\u001b[0;36m2\u001b[0m\u001b[0;34m]\u001b[0m\u001b[0;34m)\u001b[0m\u001b[0;34m\u001b[0m\u001b[0m\n\u001b[0m\u001b[1;32m      9\u001b[0m         \u001b[0ms\u001b[0m\u001b[0;34m+=\u001b[0m\u001b[0ma\u001b[0m\u001b[0;34m\u001b[0m\u001b[0m\n\u001b[1;32m     10\u001b[0m     \u001b[0mprint\u001b[0m \u001b[0;34m(\u001b[0m\u001b[0mj\u001b[0m\u001b[0;34m,\u001b[0m \u001b[0ms\u001b[0m\u001b[0;34m/\u001b[0m\u001b[0;36m60.0\u001b[0m\u001b[0;34m)\u001b[0m\u001b[0;34m\u001b[0m\u001b[0m\n",
      "\u001b[0;31mValueError\u001b[0m: invalid literal for int() with base 10: ''"
     ]
    }
   ],
   "source": [
    "for j in range(11,58):\n",
    "    s=0\n",
    "    for i in chapters:\n",
    "        a=0\n",
    "        if len(i)==2 and str(j)+'.'in i[1]:\n",
    "            #print(i[1] )\n",
    "            \n",
    "            a=int(i[1].split(\" \")[-2])    \n",
    "        s+=a\n",
    "    print (j, s/60.0)\n",
    "print \n",
    "# class =8hr\n",
    "# class = 5hr"
   ]
  },
  {
   "cell_type": "code",
   "execution_count": null,
   "metadata": {},
   "outputs": [],
   "source": []
  }
 ],
 "metadata": {
  "kernelspec": {
   "display_name": "Python 3",
   "language": "python",
   "name": "python3"
  },
  "language_info": {
   "codemirror_mode": {
    "name": "ipython",
    "version": 3
   },
   "file_extension": ".py",
   "mimetype": "text/x-python",
   "name": "python",
   "nbconvert_exporter": "python",
   "pygments_lexer": "ipython3",
   "version": "3.7.0"
  }
 },
 "nbformat": 4,
 "nbformat_minor": 2
}
